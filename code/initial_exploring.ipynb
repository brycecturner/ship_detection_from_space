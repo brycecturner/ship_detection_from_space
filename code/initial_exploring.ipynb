{
 "cells": [
  {
   "cell_type": "code",
   "execution_count": 24,
   "id": "844c8d99",
   "metadata": {},
   "outputs": [],
   "source": [
    "import os\n",
    "import itertools\n",
    "\n",
    "from sklearn.model_selection import train_test_split"
   ]
  },
  {
   "cell_type": "code",
   "execution_count": 32,
   "id": "20006870",
   "metadata": {},
   "outputs": [
    {
     "data": {
      "text/plain": [
       "['land',\n",
       " 'water',\n",
       " 'multi',\n",
       " 'coast',\n",
       " 'multi_labels',\n",
       " 'coast_ship_labels',\n",
       " 'detail',\n",
       " 'coast_ship',\n",
       " 'ship',\n",
       " 'ship_labels']"
      ]
     },
     "execution_count": 32,
     "metadata": {},
     "output_type": "execute_result"
    }
   ],
   "source": [
    "base_dir = \"/Users/bryceturner/Personal_Projects/ship_detection_from_space\"\n",
    "\n",
    "data_dir = base_dir + \"/data/sample_data\"\n",
    "os.listdir(data_dir)"
   ]
  },
  {
   "cell_type": "code",
   "execution_count": 33,
   "id": "64e7ea86",
   "metadata": {},
   "outputs": [],
   "source": [
    "wanted_data_types = ['land', 'water', 'multi', 'coast', 'ship']"
   ]
  },
  {
   "cell_type": "code",
   "execution_count": 51,
   "id": "2caff0ec",
   "metadata": {},
   "outputs": [],
   "source": [
    "def split_single_sample(data_type, test_size):\n",
    "    return train_test_split(os.listdir(data_dir+\"/\"+data_type), test_size=test_size)\n",
    "\n",
    "def split_all_samples(wanted_data_types, test_size):\n",
    "\n",
    "    train_data = []\n",
    "    test_data = []\n",
    "\n",
    "    for i in wanted_data_types:\n",
    "        train, test = split_single_sample(i, test_size)\n",
    "        train_data.append(train)\n",
    "        test_data.append(test)\n",
    "\n",
    "    test_data = [k for i in test_data for k in i]\n",
    "    train_data = [k for i in train_data for k in i]\n",
    "    \n",
    "    return train_data, test_data"
   ]
  },
  {
   "cell_type": "code",
   "execution_count": 50,
   "id": "ac0eee31",
   "metadata": {},
   "outputs": [
    {
     "data": {
      "text/plain": [
       "(['l0002.png',\n",
       "  'l0003.png',\n",
       "  'w0001.png',\n",
       "  'w0003.png',\n",
       "  'm0003.png',\n",
       "  'm0001.png',\n",
       "  'c0001.png',\n",
       "  'c0003.png',\n",
       "  's0002.png',\n",
       "  's0001.png'],\n",
       " ['l0001.png', 'w0002.png', 'm0002.png', 'c0002.png', 's0003.png'])"
      ]
     },
     "execution_count": 50,
     "metadata": {},
     "output_type": "execute_result"
    }
   ],
   "source": [
    "split_all_samples(wanted_data_types, 0.33)"
   ]
  }
 ],
 "metadata": {
  "kernelspec": {
   "display_name": "Python 3 (ipykernel)",
   "language": "python",
   "name": "python3"
  },
  "language_info": {
   "codemirror_mode": {
    "name": "ipython",
    "version": 3
   },
   "file_extension": ".py",
   "mimetype": "text/x-python",
   "name": "python",
   "nbconvert_exporter": "python",
   "pygments_lexer": "ipython3",
   "version": "3.9.12"
  }
 },
 "nbformat": 4,
 "nbformat_minor": 5
}
