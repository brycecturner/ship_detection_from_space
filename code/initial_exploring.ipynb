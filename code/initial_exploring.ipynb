{
 "cells": [
  {
   "cell_type": "code",
   "execution_count": 18,
   "id": "844c8d99",
   "metadata": {},
   "outputs": [
    {
     "name": "stdout",
     "output_type": "stream",
     "text": [
      "Collecting opencv-python\n",
      "  Downloading opencv_python-4.7.0.72-cp37-abi3-win_amd64.whl (38.2 MB)\n",
      "     --------------------------------------- 38.2/38.2 MB 43.7 MB/s eta 0:00:00\n",
      "Requirement already satisfied: numpy>=1.17.0 in c:\\users\\bctur\\appdata\\roaming\\python\\python39\\site-packages (from opencv-python) (1.23.5)\n",
      "Installing collected packages: opencv-python\n",
      "Successfully installed opencv-python-4.7.0.72\n"
     ]
    }
   ],
   "source": [
    "!pip install opencv-python"
   ]
  },
  {
   "cell_type": "code",
   "execution_count": 20,
   "id": "dd75ead0",
   "metadata": {},
   "outputs": [],
   "source": [
    "import os\n",
    "import itertools\n",
    "\n",
    "import cv2\n",
    "from sklearn.model_selection import train_test_split\n"
   ]
  },
  {
   "cell_type": "code",
   "execution_count": 16,
   "id": "812db758",
   "metadata": {},
   "outputs": [],
   "source": [
    "import tensorflow as tf\n",
    "import keras "
   ]
  },
  {
   "cell_type": "code",
   "execution_count": 4,
   "id": "840ae97f",
   "metadata": {},
   "outputs": [
    {
     "data": {
      "text/plain": [
       "'D:\\\\Projects\\\\ship_detection_from_space\\\\code'"
      ]
     },
     "execution_count": 4,
     "metadata": {},
     "output_type": "execute_result"
    }
   ],
   "source": [
    "os.getcwd()"
   ]
  },
  {
   "cell_type": "code",
   "execution_count": 15,
   "id": "20006870",
   "metadata": {},
   "outputs": [
    {
     "data": {
      "text/plain": [
       "['bing-terms.pdf',\n",
       " 'coast',\n",
       " 'coast_ship',\n",
       " 'coast_ship_labels',\n",
       " 'detail',\n",
       " 'land',\n",
       " 'multi',\n",
       " 'multi_labels',\n",
       " 'README.txt',\n",
       " 'sample_data',\n",
       " 'sample_data.zip',\n",
       " 'ship',\n",
       " 'ship_labels',\n",
       " 'water']"
      ]
     },
     "execution_count": 15,
     "metadata": {},
     "output_type": "execute_result"
    }
   ],
   "source": [
    "# base_dir = \"/Users/bryceturner/Personal_Projects/ship_detection_from_space\"\n",
    "# data_dir = base_dir + \"/data/sample_data\"\n",
    "\n",
    "base_dir = 'D:\\\\Projects\\\\ship_detection_from_space'\n",
    "data_dir = base_dir + \"/data/MASATI-v2\"\n",
    "os.listdir(data_dir)"
   ]
  },
  {
   "cell_type": "code",
   "execution_count": 8,
   "id": "64e7ea86",
   "metadata": {},
   "outputs": [],
   "source": [
    "wanted_data_types = ['land', 'water', 'multi', 'coast', 'ship']"
   ]
  },
  {
   "cell_type": "code",
   "execution_count": 9,
   "id": "2caff0ec",
   "metadata": {},
   "outputs": [],
   "source": [
    "def split_single_sample(data_type, test_size):\n",
    "    return train_test_split(os.listdir(data_dir+\"/\"+data_type), test_size=test_size)\n",
    "\n",
    "def split_all_samples(wanted_data_types, test_size):\n",
    "\n",
    "    train_data = []\n",
    "    test_data = []\n",
    "\n",
    "    for i in wanted_data_types:\n",
    "        train, test = split_single_sample(i, test_size)\n",
    "        train_data.append(train)\n",
    "        test_data.append(test)\n",
    "\n",
    "    test_data = [k for i in test_data for k in i]\n",
    "    train_data = [k for i in train_data for k in i]\n",
    "    \n",
    "    return train_data, test_data"
   ]
  },
  {
   "cell_type": "code",
   "execution_count": 11,
   "id": "ac0eee31",
   "metadata": {},
   "outputs": [],
   "source": [
    "train, test = split_all_samples(wanted_data_types, 0.33)"
   ]
  },
  {
   "cell_type": "code",
   "execution_count": 22,
   "id": "8b8e6f24",
   "metadata": {},
   "outputs": [],
   "source": [
    "img = cv2.imread(f\"{data_dir}/land/0070.png\")"
   ]
  },
  {
   "cell_type": "code",
   "execution_count": null,
   "id": "2a894a80",
   "metadata": {},
   "outputs": [],
   "source": []
  },
  {
   "cell_type": "code",
   "execution_count": 23,
   "id": "a5213375",
   "metadata": {},
   "outputs": [],
   "source": []
  },
  {
   "cell_type": "code",
   "execution_count": null,
   "id": "0c1d089a",
   "metadata": {},
   "outputs": [],
   "source": []
  }
 ],
 "metadata": {
  "kernelspec": {
   "display_name": "Python 3 (ipykernel)",
   "language": "python",
   "name": "python3"
  },
  "language_info": {
   "codemirror_mode": {
    "name": "ipython",
    "version": 3
   },
   "file_extension": ".py",
   "mimetype": "text/x-python",
   "name": "python",
   "nbconvert_exporter": "python",
   "pygments_lexer": "ipython3",
   "version": "3.9.13"
  }
 },
 "nbformat": 4,
 "nbformat_minor": 5
}
