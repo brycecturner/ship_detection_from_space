{
 "cells": [
  {
   "cell_type": "code",
   "execution_count": 15,
   "id": "8930f8d0",
   "metadata": {},
   "outputs": [],
   "source": [
    "import cv2 as cv\n",
    "import numpy as np\n",
    "\n",
    "from skimage.color import rgb2gray\n",
    "import matplotlib.pyplot as plt\n",
    "\n",
    "import os\n",
    "import xml.etree.ElementTree as ET"
   ]
  },
  {
   "cell_type": "code",
   "execution_count": 2,
   "id": "cc11d01d",
   "metadata": {},
   "outputs": [],
   "source": [
    "base_dir = 'D:\\\\Projects\\\\ship_detection_from_space'\n",
    "data_dir = base_dir + \"/data/MASATI-v2\""
   ]
  },
  {
   "cell_type": "code",
   "execution_count": 4,
   "id": "6211ee00",
   "metadata": {},
   "outputs": [],
   "source": [
    "def plot_grayscale(img, title, h=8):\n",
    "    plt.figure(figsize=(h, h))\n",
    "    _=plt.imshow(img, cmap=plt.get_cmap('gray'))\n",
    "    _=plt.title(title)"
   ]
  },
  {
   "cell_type": "code",
   "execution_count": 5,
   "id": "9fb650bf",
   "metadata": {},
   "outputs": [],
   "source": [
    "# GO HERE\n",
    "# https://docs.ultralytics.com/yolov5/tutorials/train_custom_data/\n",
    "\n",
    "\n",
    "yolo_file_location = f\"{base_dir}/yolo_files\"\n",
    "\n",
    "net=cv.dnn.readNetFromDarknet(f'{yolo_file_location}/yolov3.cfg', f'{yolo_file_location}/yolov3.weights')\n",
    "net.setPreferableBackend(cv.dnn.DNN_BACKEND_OPENCV)\n",
    "\n",
    "ln=net.getLayerNames()"
   ]
  },
  {
   "cell_type": "code",
   "execution_count": null,
   "id": "3f85cf7f",
   "metadata": {},
   "outputs": [],
   "source": []
  },
  {
   "cell_type": "code",
   "execution_count": 16,
   "id": "3309c16d",
   "metadata": {},
   "outputs": [],
   "source": [
    "classname_to_id_map = {'ship' : 0,\n",
    "                       'coast_ship' : 1}"
   ]
  },
  {
   "cell_type": "code",
   "execution_count": 17,
   "id": "71320226",
   "metadata": {},
   "outputs": [],
   "source": [
    "def extract_info_from_xml(file_dir, using_file):\n",
    "\n",
    "    root = ET.parse(file_dir + using_file).getroot()\n",
    "\n",
    "    info_dict = {}\n",
    "\n",
    "    for elem in root:\n",
    "    # print(elem.tag)\n",
    "        if elem.tag == 'filename':\n",
    "            info_dict['filename'] = elem.text\n",
    "\n",
    "    for subelem in elem:\n",
    "\n",
    "      #print(subelem.tag)\n",
    "        if subelem.tag == 'name':\n",
    "            info_dict['class'] = subelem.text\n",
    "        if subelem.tag == 'bndbox':\n",
    "            box_dict = {}\n",
    "        for i in subelem:\n",
    "            box_dict[i.tag] = int(i.text)\n",
    "            info_dict['bndbox'] = box_dict\n",
    "\n",
    "    return info_dict"
   ]
  },
  {
   "cell_type": "code",
   "execution_count": 21,
   "id": "5686b1f6",
   "metadata": {},
   "outputs": [],
   "source": [
    "def convert_to_yolov5(info_dict):\n",
    "    print_buffer = []\n",
    "    try:\n",
    "        class_id = classname_to_id_map[info_dict[\"class\"]]\n",
    "    except KeyError:\n",
    "        print(\"Invalid Class. Must be one from \", class_name_to_id_map.keys())\n",
    "        \n",
    "\n",
    "    # Transform the bbox co-ordinates as per the format required by YOLO v5\n",
    "    b_center_x = (info_dict['bndbox'][\"xmin\"] + info_dict['bndbox'][\"xmax\"]) / 2 \n",
    "    b_center_y = (info_dict['bndbox'][\"ymin\"] + info_dict['bndbox'][\"ymax\"]) / 2\n",
    "    b_width    = (info_dict['bndbox'][\"xmax\"] - info_dict['bndbox'][\"xmin\"])\n",
    "    b_height   = (info_dict['bndbox'][\"ymax\"] - info_dict['bndbox'][\"ymin\"])\n",
    "    b_center_x /= 512 \n",
    "    b_center_y /= 512 \n",
    "    b_width    /= 512 \n",
    "    b_height   /= 512 \n",
    "    #Write the bbox details to the file \n",
    "    print_buffer.append(\"{} {:.3f} {:.3f} {:.3f} {:.3f}\".format(class_id, b_center_x, b_center_y, b_width, b_height))\n",
    "        \n",
    "    # Name of the file which we have to save \n",
    "    save_file_name = os.path.join(\"D:\\Projects/ship_detection_from_space/data/yolo_data/labels/\", info_dict[\"filename\"].replace(\"png\", \"txt\"))\n",
    "    \n",
    "    # Save the annotation to disk\n",
    "    print(\"\\n\".join(print_buffer), file= open(save_file_name, \"w\"))"
   ]
  },
  {
   "cell_type": "code",
   "execution_count": 22,
   "id": "e4f3c268",
   "metadata": {},
   "outputs": [
    {
     "data": {
      "text/plain": [
       "'D:\\\\Projects\\\\ship_detection_from_space\\\\code'"
      ]
     },
     "execution_count": 22,
     "metadata": {},
     "output_type": "execute_result"
    }
   ],
   "source": [
    "os.getcwd()"
   ]
  },
  {
   "cell_type": "code",
   "execution_count": 25,
   "id": "62a30023",
   "metadata": {},
   "outputs": [],
   "source": [
    "using_dir = 'D:\\Projects/ship_detection_from_space/data/MASATI-v2/coast_ship_labels/'\n",
    "all_files = os.listdir(using_dir)\n",
    "all_dicts = [extract_info_from_xml(using_dir, x) for x in all_files]\n",
    "n = [convert_to_yolov5(x) for x in all_dicts]"
   ]
  },
  {
   "cell_type": "code",
   "execution_count": null,
   "id": "c04ce4a4",
   "metadata": {},
   "outputs": [],
   "source": []
  }
 ],
 "metadata": {
  "kernelspec": {
   "display_name": "Python 3 (ipykernel)",
   "language": "python",
   "name": "python3"
  },
  "language_info": {
   "codemirror_mode": {
    "name": "ipython",
    "version": 3
   },
   "file_extension": ".py",
   "mimetype": "text/x-python",
   "name": "python",
   "nbconvert_exporter": "python",
   "pygments_lexer": "ipython3",
   "version": "3.9.13"
  }
 },
 "nbformat": 4,
 "nbformat_minor": 5
}
